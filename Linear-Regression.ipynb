{
 "cells": [
  {
   "cell_type": "code",
   "execution_count": 1,
   "metadata": {},
   "outputs": [],
   "source": [
    "import pandas as pd\n",
    "import matplotlib.pyplot as plt\n",
    "import seaborn as sns\n",
    "\n",
    "plt.rcParams['figure.figsize']=(13,6)\n",
    "plt.rcParams['font.size']=15\n",
    "sns.set_style('darkgrid')\n",
    "\n"
   ]
  },
  {
   "cell_type": "code",
   "execution_count": 2,
   "metadata": {},
   "outputs": [
    {
     "data": {
      "text/html": [
       "<div>\n",
       "<style scoped>\n",
       "    .dataframe tbody tr th:only-of-type {\n",
       "        vertical-align: middle;\n",
       "    }\n",
       "\n",
       "    .dataframe tbody tr th {\n",
       "        vertical-align: top;\n",
       "    }\n",
       "\n",
       "    .dataframe thead th {\n",
       "        text-align: right;\n",
       "    }\n",
       "</style>\n",
       "<table border=\"1\" class=\"dataframe\">\n",
       "  <thead>\n",
       "    <tr style=\"text-align: right;\">\n",
       "      <th></th>\n",
       "      <th>SrNo</th>\n",
       "      <th>PaperName</th>\n",
       "      <th>Paper Code</th>\n",
       "      <th>GEN</th>\n",
       "      <th>OBC</th>\n",
       "      <th>SC_ST</th>\n",
       "      <th>Year</th>\n",
       "    </tr>\n",
       "  </thead>\n",
       "  <tbody>\n",
       "    <tr>\n",
       "      <th>0</th>\n",
       "      <td>1</td>\n",
       "      <td>Life Sciences</td>\n",
       "      <td>XL</td>\n",
       "      <td>31.70</td>\n",
       "      <td>28.50</td>\n",
       "      <td>21.10</td>\n",
       "      <td>2020</td>\n",
       "    </tr>\n",
       "    <tr>\n",
       "      <th>1</th>\n",
       "      <td>2</td>\n",
       "      <td>Civil Engineering</td>\n",
       "      <td>CE</td>\n",
       "      <td>32.90</td>\n",
       "      <td>29.60</td>\n",
       "      <td>21.90</td>\n",
       "      <td>2020</td>\n",
       "    </tr>\n",
       "    <tr>\n",
       "      <th>2</th>\n",
       "      <td>3</td>\n",
       "      <td>Electrical Engineering</td>\n",
       "      <td>EE</td>\n",
       "      <td>33.40</td>\n",
       "      <td>30.00</td>\n",
       "      <td>22.20</td>\n",
       "      <td>2020</td>\n",
       "    </tr>\n",
       "    <tr>\n",
       "      <th>3</th>\n",
       "      <td>4</td>\n",
       "      <td>CS_IT</td>\n",
       "      <td>CS</td>\n",
       "      <td>28.50</td>\n",
       "      <td>25.60</td>\n",
       "      <td>19.00</td>\n",
       "      <td>2020</td>\n",
       "    </tr>\n",
       "    <tr>\n",
       "      <th>4</th>\n",
       "      <td>5</td>\n",
       "      <td>Mechanical Engineering</td>\n",
       "      <td>ME</td>\n",
       "      <td>34.00</td>\n",
       "      <td>30.60</td>\n",
       "      <td>22.60</td>\n",
       "      <td>2020</td>\n",
       "    </tr>\n",
       "    <tr>\n",
       "      <th>...</th>\n",
       "      <td>...</td>\n",
       "      <td>...</td>\n",
       "      <td>...</td>\n",
       "      <td>...</td>\n",
       "      <td>...</td>\n",
       "      <td>...</td>\n",
       "      <td>...</td>\n",
       "    </tr>\n",
       "    <tr>\n",
       "      <th>88</th>\n",
       "      <td>89</td>\n",
       "      <td>Electrical Engineering</td>\n",
       "      <td>EE</td>\n",
       "      <td>25.00</td>\n",
       "      <td>22.50</td>\n",
       "      <td>16.67</td>\n",
       "      <td>2015</td>\n",
       "    </tr>\n",
       "    <tr>\n",
       "      <th>89</th>\n",
       "      <td>90</td>\n",
       "      <td>Electronics and Communication Engineering</td>\n",
       "      <td>EC</td>\n",
       "      <td>25.00</td>\n",
       "      <td>22.50</td>\n",
       "      <td>16.67</td>\n",
       "      <td>2015</td>\n",
       "    </tr>\n",
       "    <tr>\n",
       "      <th>90</th>\n",
       "      <td>91</td>\n",
       "      <td>CS_IT</td>\n",
       "      <td>CS</td>\n",
       "      <td>25.00</td>\n",
       "      <td>22.50</td>\n",
       "      <td>16.67</td>\n",
       "      <td>2015</td>\n",
       "    </tr>\n",
       "    <tr>\n",
       "      <th>91</th>\n",
       "      <td>92</td>\n",
       "      <td>Instrumentation Engineering</td>\n",
       "      <td>IN</td>\n",
       "      <td>25.45</td>\n",
       "      <td>22.90</td>\n",
       "      <td>16.96</td>\n",
       "      <td>2015</td>\n",
       "    </tr>\n",
       "    <tr>\n",
       "      <th>92</th>\n",
       "      <td>93</td>\n",
       "      <td>Production and Industrial Engineering</td>\n",
       "      <td>PI</td>\n",
       "      <td>26.82</td>\n",
       "      <td>24.14</td>\n",
       "      <td>17.88</td>\n",
       "      <td>2015</td>\n",
       "    </tr>\n",
       "  </tbody>\n",
       "</table>\n",
       "<p>93 rows × 7 columns</p>\n",
       "</div>"
      ],
      "text/plain": [
       "    SrNo                                  PaperName Paper Code    GEN    OBC  \\\n",
       "0      1                              Life Sciences         XL  31.70  28.50   \n",
       "1      2                          Civil Engineering         CE  32.90  29.60   \n",
       "2      3                     Electrical Engineering         EE  33.40  30.00   \n",
       "3      4                                      CS_IT         CS  28.50  25.60   \n",
       "4      5                     Mechanical Engineering         ME  34.00  30.60   \n",
       "..   ...                                        ...        ...    ...    ...   \n",
       "88    89                     Electrical Engineering         EE  25.00  22.50   \n",
       "89    90  Electronics and Communication Engineering         EC  25.00  22.50   \n",
       "90    91                                      CS_IT         CS  25.00  22.50   \n",
       "91    92                Instrumentation Engineering         IN  25.45  22.90   \n",
       "92    93      Production and Industrial Engineering         PI  26.82  24.14   \n",
       "\n",
       "    SC_ST  Year  \n",
       "0   21.10  2020  \n",
       "1   21.90  2020  \n",
       "2   22.20  2020  \n",
       "3   19.00  2020  \n",
       "4   22.60  2020  \n",
       "..    ...   ...  \n",
       "88  16.67  2015  \n",
       "89  16.67  2015  \n",
       "90  16.67  2015  \n",
       "91  16.96  2015  \n",
       "92  17.88  2015  \n",
       "\n",
       "[93 rows x 7 columns]"
      ]
     },
     "execution_count": 2,
     "metadata": {},
     "output_type": "execute_result"
    }
   ],
   "source": [
    "data=pd.read_csv('gate_cutoff123-Copy1.csv')\n",
    "data"
   ]
  },
  {
   "cell_type": "code",
   "execution_count": 3,
   "metadata": {},
   "outputs": [
    {
     "data": {
      "text/plain": [
       "SrNo          0\n",
       "PaperName     0\n",
       "Paper Code    0\n",
       "GEN           0\n",
       "OBC           0\n",
       "SC_ST         0\n",
       "Year          0\n",
       "dtype: int64"
      ]
     },
     "execution_count": 3,
     "metadata": {},
     "output_type": "execute_result"
    }
   ],
   "source": [
    "data.isnull().sum()"
   ]
  },
  {
   "cell_type": "code",
   "execution_count": 4,
   "metadata": {},
   "outputs": [
    {
     "data": {
      "text/html": [
       "<div>\n",
       "<style scoped>\n",
       "    .dataframe tbody tr th:only-of-type {\n",
       "        vertical-align: middle;\n",
       "    }\n",
       "\n",
       "    .dataframe tbody tr th {\n",
       "        vertical-align: top;\n",
       "    }\n",
       "\n",
       "    .dataframe thead th {\n",
       "        text-align: right;\n",
       "    }\n",
       "</style>\n",
       "<table border=\"1\" class=\"dataframe\">\n",
       "  <thead>\n",
       "    <tr style=\"text-align: right;\">\n",
       "      <th></th>\n",
       "      <th>SrNo</th>\n",
       "      <th>PaperName</th>\n",
       "      <th>Paper Code</th>\n",
       "      <th>GEN</th>\n",
       "      <th>OBC</th>\n",
       "      <th>SC_ST</th>\n",
       "      <th>Year</th>\n",
       "    </tr>\n",
       "  </thead>\n",
       "  <tbody>\n",
       "    <tr>\n",
       "      <th>0</th>\n",
       "      <td>1</td>\n",
       "      <td>Life Sciences</td>\n",
       "      <td>XL</td>\n",
       "      <td>31.70</td>\n",
       "      <td>28.50</td>\n",
       "      <td>21.10</td>\n",
       "      <td>2020</td>\n",
       "    </tr>\n",
       "    <tr>\n",
       "      <th>1</th>\n",
       "      <td>2</td>\n",
       "      <td>Civil Engineering</td>\n",
       "      <td>CE</td>\n",
       "      <td>32.90</td>\n",
       "      <td>29.60</td>\n",
       "      <td>21.90</td>\n",
       "      <td>2020</td>\n",
       "    </tr>\n",
       "    <tr>\n",
       "      <th>2</th>\n",
       "      <td>3</td>\n",
       "      <td>Electrical Engineering</td>\n",
       "      <td>EE</td>\n",
       "      <td>33.40</td>\n",
       "      <td>30.00</td>\n",
       "      <td>22.20</td>\n",
       "      <td>2020</td>\n",
       "    </tr>\n",
       "    <tr>\n",
       "      <th>3</th>\n",
       "      <td>4</td>\n",
       "      <td>CS_IT</td>\n",
       "      <td>CS</td>\n",
       "      <td>28.50</td>\n",
       "      <td>25.60</td>\n",
       "      <td>19.00</td>\n",
       "      <td>2020</td>\n",
       "    </tr>\n",
       "    <tr>\n",
       "      <th>4</th>\n",
       "      <td>5</td>\n",
       "      <td>Mechanical Engineering</td>\n",
       "      <td>ME</td>\n",
       "      <td>34.00</td>\n",
       "      <td>30.60</td>\n",
       "      <td>22.60</td>\n",
       "      <td>2020</td>\n",
       "    </tr>\n",
       "    <tr>\n",
       "      <th>...</th>\n",
       "      <td>...</td>\n",
       "      <td>...</td>\n",
       "      <td>...</td>\n",
       "      <td>...</td>\n",
       "      <td>...</td>\n",
       "      <td>...</td>\n",
       "      <td>...</td>\n",
       "    </tr>\n",
       "    <tr>\n",
       "      <th>88</th>\n",
       "      <td>89</td>\n",
       "      <td>Electrical Engineering</td>\n",
       "      <td>EE</td>\n",
       "      <td>25.00</td>\n",
       "      <td>22.50</td>\n",
       "      <td>16.67</td>\n",
       "      <td>2015</td>\n",
       "    </tr>\n",
       "    <tr>\n",
       "      <th>89</th>\n",
       "      <td>90</td>\n",
       "      <td>Electronics and Communication Engineering</td>\n",
       "      <td>EC</td>\n",
       "      <td>25.00</td>\n",
       "      <td>22.50</td>\n",
       "      <td>16.67</td>\n",
       "      <td>2015</td>\n",
       "    </tr>\n",
       "    <tr>\n",
       "      <th>90</th>\n",
       "      <td>91</td>\n",
       "      <td>CS_IT</td>\n",
       "      <td>CS</td>\n",
       "      <td>25.00</td>\n",
       "      <td>22.50</td>\n",
       "      <td>16.67</td>\n",
       "      <td>2015</td>\n",
       "    </tr>\n",
       "    <tr>\n",
       "      <th>91</th>\n",
       "      <td>92</td>\n",
       "      <td>Instrumentation Engineering</td>\n",
       "      <td>IN</td>\n",
       "      <td>25.45</td>\n",
       "      <td>22.90</td>\n",
       "      <td>16.96</td>\n",
       "      <td>2015</td>\n",
       "    </tr>\n",
       "    <tr>\n",
       "      <th>92</th>\n",
       "      <td>93</td>\n",
       "      <td>Production and Industrial Engineering</td>\n",
       "      <td>PI</td>\n",
       "      <td>26.82</td>\n",
       "      <td>24.14</td>\n",
       "      <td>17.88</td>\n",
       "      <td>2015</td>\n",
       "    </tr>\n",
       "  </tbody>\n",
       "</table>\n",
       "<p>93 rows × 7 columns</p>\n",
       "</div>"
      ],
      "text/plain": [
       "    SrNo                                  PaperName Paper Code    GEN    OBC  \\\n",
       "0      1                              Life Sciences         XL  31.70  28.50   \n",
       "1      2                          Civil Engineering         CE  32.90  29.60   \n",
       "2      3                     Electrical Engineering         EE  33.40  30.00   \n",
       "3      4                                      CS_IT         CS  28.50  25.60   \n",
       "4      5                     Mechanical Engineering         ME  34.00  30.60   \n",
       "..   ...                                        ...        ...    ...    ...   \n",
       "88    89                     Electrical Engineering         EE  25.00  22.50   \n",
       "89    90  Electronics and Communication Engineering         EC  25.00  22.50   \n",
       "90    91                                      CS_IT         CS  25.00  22.50   \n",
       "91    92                Instrumentation Engineering         IN  25.45  22.90   \n",
       "92    93      Production and Industrial Engineering         PI  26.82  24.14   \n",
       "\n",
       "    SC_ST  Year  \n",
       "0   21.10  2020  \n",
       "1   21.90  2020  \n",
       "2   22.20  2020  \n",
       "3   19.00  2020  \n",
       "4   22.60  2020  \n",
       "..    ...   ...  \n",
       "88  16.67  2015  \n",
       "89  16.67  2015  \n",
       "90  16.67  2015  \n",
       "91  16.96  2015  \n",
       "92  17.88  2015  \n",
       "\n",
       "[93 rows x 7 columns]"
      ]
     },
     "execution_count": 4,
     "metadata": {},
     "output_type": "execute_result"
    }
   ],
   "source": [
    "data.dropna()"
   ]
  },
  {
   "cell_type": "code",
   "execution_count": 5,
   "metadata": {},
   "outputs": [
    {
     "data": {
      "text/html": [
       "<div>\n",
       "<style scoped>\n",
       "    .dataframe tbody tr th:only-of-type {\n",
       "        vertical-align: middle;\n",
       "    }\n",
       "\n",
       "    .dataframe tbody tr th {\n",
       "        vertical-align: top;\n",
       "    }\n",
       "\n",
       "    .dataframe thead th {\n",
       "        text-align: right;\n",
       "    }\n",
       "</style>\n",
       "<table border=\"1\" class=\"dataframe\">\n",
       "  <thead>\n",
       "    <tr style=\"text-align: right;\">\n",
       "      <th></th>\n",
       "      <th>SrNo</th>\n",
       "      <th>PaperName</th>\n",
       "      <th>Paper Code</th>\n",
       "      <th>GEN</th>\n",
       "      <th>OBC</th>\n",
       "      <th>SC_ST</th>\n",
       "      <th>Year</th>\n",
       "    </tr>\n",
       "  </thead>\n",
       "  <tbody>\n",
       "    <tr>\n",
       "      <th>0</th>\n",
       "      <td>1</td>\n",
       "      <td>Life Sciences</td>\n",
       "      <td>XL</td>\n",
       "      <td>31.70</td>\n",
       "      <td>28.50</td>\n",
       "      <td>21.10</td>\n",
       "      <td>2020</td>\n",
       "    </tr>\n",
       "    <tr>\n",
       "      <th>1</th>\n",
       "      <td>2</td>\n",
       "      <td>Civil Engineering</td>\n",
       "      <td>CE</td>\n",
       "      <td>32.90</td>\n",
       "      <td>29.60</td>\n",
       "      <td>21.90</td>\n",
       "      <td>2020</td>\n",
       "    </tr>\n",
       "    <tr>\n",
       "      <th>2</th>\n",
       "      <td>3</td>\n",
       "      <td>Electrical Engineering</td>\n",
       "      <td>EE</td>\n",
       "      <td>33.40</td>\n",
       "      <td>30.00</td>\n",
       "      <td>22.20</td>\n",
       "      <td>2020</td>\n",
       "    </tr>\n",
       "    <tr>\n",
       "      <th>3</th>\n",
       "      <td>4</td>\n",
       "      <td>CS_IT</td>\n",
       "      <td>CS</td>\n",
       "      <td>28.50</td>\n",
       "      <td>25.60</td>\n",
       "      <td>19.00</td>\n",
       "      <td>2020</td>\n",
       "    </tr>\n",
       "    <tr>\n",
       "      <th>4</th>\n",
       "      <td>5</td>\n",
       "      <td>Mechanical Engineering</td>\n",
       "      <td>ME</td>\n",
       "      <td>34.00</td>\n",
       "      <td>30.60</td>\n",
       "      <td>22.60</td>\n",
       "      <td>2020</td>\n",
       "    </tr>\n",
       "    <tr>\n",
       "      <th>...</th>\n",
       "      <td>...</td>\n",
       "      <td>...</td>\n",
       "      <td>...</td>\n",
       "      <td>...</td>\n",
       "      <td>...</td>\n",
       "      <td>...</td>\n",
       "      <td>...</td>\n",
       "    </tr>\n",
       "    <tr>\n",
       "      <th>88</th>\n",
       "      <td>89</td>\n",
       "      <td>Electrical Engineering</td>\n",
       "      <td>EE</td>\n",
       "      <td>25.00</td>\n",
       "      <td>22.50</td>\n",
       "      <td>16.67</td>\n",
       "      <td>2015</td>\n",
       "    </tr>\n",
       "    <tr>\n",
       "      <th>89</th>\n",
       "      <td>90</td>\n",
       "      <td>Electronics and Communication Engineering</td>\n",
       "      <td>EC</td>\n",
       "      <td>25.00</td>\n",
       "      <td>22.50</td>\n",
       "      <td>16.67</td>\n",
       "      <td>2015</td>\n",
       "    </tr>\n",
       "    <tr>\n",
       "      <th>90</th>\n",
       "      <td>91</td>\n",
       "      <td>CS_IT</td>\n",
       "      <td>CS</td>\n",
       "      <td>25.00</td>\n",
       "      <td>22.50</td>\n",
       "      <td>16.67</td>\n",
       "      <td>2015</td>\n",
       "    </tr>\n",
       "    <tr>\n",
       "      <th>91</th>\n",
       "      <td>92</td>\n",
       "      <td>Instrumentation Engineering</td>\n",
       "      <td>IN</td>\n",
       "      <td>25.45</td>\n",
       "      <td>22.90</td>\n",
       "      <td>16.96</td>\n",
       "      <td>2015</td>\n",
       "    </tr>\n",
       "    <tr>\n",
       "      <th>92</th>\n",
       "      <td>93</td>\n",
       "      <td>Production and Industrial Engineering</td>\n",
       "      <td>PI</td>\n",
       "      <td>26.82</td>\n",
       "      <td>24.14</td>\n",
       "      <td>17.88</td>\n",
       "      <td>2015</td>\n",
       "    </tr>\n",
       "  </tbody>\n",
       "</table>\n",
       "<p>93 rows × 7 columns</p>\n",
       "</div>"
      ],
      "text/plain": [
       "    SrNo                                  PaperName Paper Code    GEN    OBC  \\\n",
       "0      1                              Life Sciences         XL  31.70  28.50   \n",
       "1      2                          Civil Engineering         CE  32.90  29.60   \n",
       "2      3                     Electrical Engineering         EE  33.40  30.00   \n",
       "3      4                                      CS_IT         CS  28.50  25.60   \n",
       "4      5                     Mechanical Engineering         ME  34.00  30.60   \n",
       "..   ...                                        ...        ...    ...    ...   \n",
       "88    89                     Electrical Engineering         EE  25.00  22.50   \n",
       "89    90  Electronics and Communication Engineering         EC  25.00  22.50   \n",
       "90    91                                      CS_IT         CS  25.00  22.50   \n",
       "91    92                Instrumentation Engineering         IN  25.45  22.90   \n",
       "92    93      Production and Industrial Engineering         PI  26.82  24.14   \n",
       "\n",
       "    SC_ST  Year  \n",
       "0   21.10  2020  \n",
       "1   21.90  2020  \n",
       "2   22.20  2020  \n",
       "3   19.00  2020  \n",
       "4   22.60  2020  \n",
       "..    ...   ...  \n",
       "88  16.67  2015  \n",
       "89  16.67  2015  \n",
       "90  16.67  2015  \n",
       "91  16.96  2015  \n",
       "92  17.88  2015  \n",
       "\n",
       "[93 rows x 7 columns]"
      ]
     },
     "execution_count": 5,
     "metadata": {},
     "output_type": "execute_result"
    }
   ],
   "source": [
    "data"
   ]
  },
  {
   "cell_type": "code",
   "execution_count": 6,
   "metadata": {},
   "outputs": [],
   "source": [
    "y=data[['GEN']]\n",
    "x=data[['OBC']]"
   ]
  },
  {
   "cell_type": "code",
   "execution_count": 7,
   "metadata": {},
   "outputs": [],
   "source": [
    "from sklearn.linear_model import LinearRegression\n",
    "from sklearn.model_selection import train_test_split"
   ]
  },
  {
   "cell_type": "code",
   "execution_count": 8,
   "metadata": {},
   "outputs": [],
   "source": [
    "x_train,x_test,y_train,y_test=train_test_split(x,y,test_size=.03)"
   ]
  },
  {
   "cell_type": "code",
   "execution_count": 9,
   "metadata": {},
   "outputs": [
    {
     "data": {
      "text/plain": [
       "LinearRegression()"
      ]
     },
     "execution_count": 9,
     "metadata": {},
     "output_type": "execute_result"
    }
   ],
   "source": [
    "#train Model\n",
    "lr=LinearRegression()\n",
    "lr.fit(x_train,y_train)\n"
   ]
  },
  {
   "cell_type": "code",
   "execution_count": 10,
   "metadata": {},
   "outputs": [],
   "source": [
    "y_pred=lr.predict(x_test)"
   ]
  },
  {
   "cell_type": "code",
   "execution_count": 11,
   "metadata": {},
   "outputs": [
    {
     "data": {
      "text/html": [
       "<div>\n",
       "<style scoped>\n",
       "    .dataframe tbody tr th:only-of-type {\n",
       "        vertical-align: middle;\n",
       "    }\n",
       "\n",
       "    .dataframe tbody tr th {\n",
       "        vertical-align: top;\n",
       "    }\n",
       "\n",
       "    .dataframe thead th {\n",
       "        text-align: right;\n",
       "    }\n",
       "</style>\n",
       "<table border=\"1\" class=\"dataframe\">\n",
       "  <thead>\n",
       "    <tr style=\"text-align: right;\">\n",
       "      <th></th>\n",
       "      <th>GEN</th>\n",
       "    </tr>\n",
       "  </thead>\n",
       "  <tbody>\n",
       "    <tr>\n",
       "      <th>22</th>\n",
       "      <td>25.0</td>\n",
       "    </tr>\n",
       "    <tr>\n",
       "      <th>83</th>\n",
       "      <td>25.0</td>\n",
       "    </tr>\n",
       "    <tr>\n",
       "      <th>36</th>\n",
       "      <td>33.5</td>\n",
       "    </tr>\n",
       "  </tbody>\n",
       "</table>\n",
       "</div>"
      ],
      "text/plain": [
       "     GEN\n",
       "22  25.0\n",
       "83  25.0\n",
       "36  33.5"
      ]
     },
     "execution_count": 11,
     "metadata": {},
     "output_type": "execute_result"
    }
   ],
   "source": [
    "y_test"
   ]
  },
  {
   "cell_type": "code",
   "execution_count": 12,
   "metadata": {},
   "outputs": [
    {
     "data": {
      "text/plain": [
       "array([[24.96984433],\n",
       "       [24.96984433],\n",
       "       [33.56226517]])"
      ]
     },
     "execution_count": 12,
     "metadata": {},
     "output_type": "execute_result"
    }
   ],
   "source": [
    "y_pred"
   ]
  },
  {
   "cell_type": "code",
   "execution_count": 13,
   "metadata": {},
   "outputs": [
    {
     "data": {
      "text/plain": [
       "0.0018985600617656521"
      ]
     },
     "execution_count": 13,
     "metadata": {},
     "output_type": "execute_result"
    }
   ],
   "source": [
    "from sklearn.metrics import mean_squared_error,r2_score\n",
    "\n",
    "mean_squared_error(y_test,y_pred)"
   ]
  },
  {
   "cell_type": "code",
   "execution_count": 14,
   "metadata": {},
   "outputs": [
    {
     "name": "stdout",
     "output_type": "stream",
     "text": [
      "Coefficients: \n",
      " [[1.11589881]]\n"
     ]
    }
   ],
   "source": [
    "# The coefficients\n",
    "print(\"Coefficients: \\n\", lr.coef_)"
   ]
  },
  {
   "cell_type": "code",
   "execution_count": 15,
   "metadata": {},
   "outputs": [
    {
     "name": "stdout",
     "output_type": "stream",
     "text": [
      "Mean squared error: 0.00\n",
      "Coefficient of determination: 1.00\n"
     ]
    }
   ],
   "source": [
    "# The mean squared error\n",
    "print(\"Mean squared error: %.2f\" % mean_squared_error(y_test,y_pred))\n",
    "# The coefficient of determination: 1 is perfect prediction\n",
    "print(\"Coefficient of determination: %.2f\" % r2_score(y_test,y_pred))"
   ]
  },
  {
   "cell_type": "code",
   "execution_count": 17,
   "metadata": {},
   "outputs": [
    {
     "data": {
      "image/png": "[encoded data removed]",
      "text/plain": [
       "<Figure size 936x432 with 1 Axes>"
      ]
     },
     "metadata": {},
     "output_type": "display_data"
    }
   ],
   "source": [
    "plt.scatter(x_test,y_test, color=\"red\")\n",
    "plt.plot(x_test,y_pred, color=\"green\", linewidth=3)\n",
    "plt.xlabel('X-TESTS')\n",
    "plt.ylabel('Y-PRED &  Y-TEST')\n",
    "plt.legend(['y_pred','y_test'])\n",
    "\n",
    "plt.show()"
   ]
  },
  {
   "cell_type": "code",
   "execution_count": 18,
   "metadata": {},
   "outputs": [],
   "source": [
    "x1=data[['SC_ST']]\n",
    "y1=data[['OBC']]"
   ]
  },
  {
   "cell_type": "code",
   "execution_count": 19,
   "metadata": {},
   "outputs": [],
   "source": [
    "x1_train,x1_test,y1_train,y1_test=train_test_split(x1,y1,test_size=0.3)"
   ]
  },
  {
   "cell_type": "code",
   "execution_count": 20,
   "metadata": {},
   "outputs": [
    {
     "data": {
      "text/plain": [
       "LinearRegression()"
      ]
     },
     "execution_count": 20,
     "metadata": {},
     "output_type": "execute_result"
    }
   ],
   "source": [
    "#train Model\n",
    "lr1=LinearRegression()\n",
    "lr1.fit(x1_train,y1_train)\n"
   ]
  },
  {
   "cell_type": "code",
   "execution_count": 21,
   "metadata": {},
   "outputs": [],
   "source": [
    "y1_pred=lr1.predict(x1_test)"
   ]
  },
  {
   "cell_type": "code",
   "execution_count": 22,
   "metadata": {},
   "outputs": [
    {
     "data": {
      "text/html": [
       "<div>\n",
       "<style scoped>\n",
       "    .dataframe tbody tr th:only-of-type {\n",
       "        vertical-align: middle;\n",
       "    }\n",
       "\n",
       "    .dataframe tbody tr th {\n",
       "        vertical-align: top;\n",
       "    }\n",
       "\n",
       "    .dataframe thead th {\n",
       "        text-align: right;\n",
       "    }\n",
       "</style>\n",
       "<table border=\"1\" class=\"dataframe\">\n",
       "  <thead>\n",
       "    <tr style=\"text-align: right;\">\n",
       "      <th></th>\n",
       "      <th>OBC</th>\n",
       "    </tr>\n",
       "  </thead>\n",
       "  <tbody>\n",
       "    <tr>\n",
       "      <th>50</th>\n",
       "      <td>39.5</td>\n",
       "    </tr>\n",
       "    <tr>\n",
       "      <th>21</th>\n",
       "      <td>32.9</td>\n",
       "    </tr>\n",
       "    <tr>\n",
       "      <th>51</th>\n",
       "      <td>25.1</td>\n",
       "    </tr>\n",
       "    <tr>\n",
       "      <th>34</th>\n",
       "      <td>24.0</td>\n",
       "    </tr>\n",
       "    <tr>\n",
       "      <th>48</th>\n",
       "      <td>30.9</td>\n",
       "    </tr>\n",
       "    <tr>\n",
       "      <th>19</th>\n",
       "      <td>44.2</td>\n",
       "    </tr>\n",
       "    <tr>\n",
       "      <th>81</th>\n",
       "      <td>22.5</td>\n",
       "    </tr>\n",
       "    <tr>\n",
       "      <th>42</th>\n",
       "      <td>22.5</td>\n",
       "    </tr>\n",
       "    <tr>\n",
       "      <th>87</th>\n",
       "      <td>22.5</td>\n",
       "    </tr>\n",
       "    <tr>\n",
       "      <th>56</th>\n",
       "      <td>22.5</td>\n",
       "    </tr>\n",
       "    <tr>\n",
       "      <th>49</th>\n",
       "      <td>22.5</td>\n",
       "    </tr>\n",
       "    <tr>\n",
       "      <th>18</th>\n",
       "      <td>29.4</td>\n",
       "    </tr>\n",
       "    <tr>\n",
       "      <th>4</th>\n",
       "      <td>30.6</td>\n",
       "    </tr>\n",
       "    <tr>\n",
       "      <th>46</th>\n",
       "      <td>29.0</td>\n",
       "    </tr>\n",
       "    <tr>\n",
       "      <th>59</th>\n",
       "      <td>29.1</td>\n",
       "    </tr>\n",
       "    <tr>\n",
       "      <th>52</th>\n",
       "      <td>24.2</td>\n",
       "    </tr>\n",
       "    <tr>\n",
       "      <th>82</th>\n",
       "      <td>22.5</td>\n",
       "    </tr>\n",
       "    <tr>\n",
       "      <th>17</th>\n",
       "      <td>22.5</td>\n",
       "    </tr>\n",
       "    <tr>\n",
       "      <th>54</th>\n",
       "      <td>22.5</td>\n",
       "    </tr>\n",
       "    <tr>\n",
       "      <th>1</th>\n",
       "      <td>29.6</td>\n",
       "    </tr>\n",
       "    <tr>\n",
       "      <th>12</th>\n",
       "      <td>24.4</td>\n",
       "    </tr>\n",
       "    <tr>\n",
       "      <th>63</th>\n",
       "      <td>40.5</td>\n",
       "    </tr>\n",
       "    <tr>\n",
       "      <th>60</th>\n",
       "      <td>33.3</td>\n",
       "    </tr>\n",
       "    <tr>\n",
       "      <th>28</th>\n",
       "      <td>30.7</td>\n",
       "    </tr>\n",
       "    <tr>\n",
       "      <th>8</th>\n",
       "      <td>24.0</td>\n",
       "    </tr>\n",
       "    <tr>\n",
       "      <th>23</th>\n",
       "      <td>22.5</td>\n",
       "    </tr>\n",
       "    <tr>\n",
       "      <th>91</th>\n",
       "      <td>22.9</td>\n",
       "    </tr>\n",
       "    <tr>\n",
       "      <th>11</th>\n",
       "      <td>33.3</td>\n",
       "    </tr>\n",
       "  </tbody>\n",
       "</table>\n",
       "</div>"
      ],
      "text/plain": [
       "     OBC\n",
       "50  39.5\n",
       "21  32.9\n",
       "51  25.1\n",
       "34  24.0\n",
       "48  30.9\n",
       "19  44.2\n",
       "81  22.5\n",
       "42  22.5\n",
       "87  22.5\n",
       "56  22.5\n",
       "49  22.5\n",
       "18  29.4\n",
       "4   30.6\n",
       "46  29.0\n",
       "59  29.1\n",
       "52  24.2\n",
       "82  22.5\n",
       "17  22.5\n",
       "54  22.5\n",
       "1   29.6\n",
       "12  24.4\n",
       "63  40.5\n",
       "60  33.3\n",
       "28  30.7\n",
       "8   24.0\n",
       "23  22.5\n",
       "91  22.9\n",
       "11  33.3"
      ]
     },
     "execution_count": 22,
     "metadata": {},
     "output_type": "execute_result"
    }
   ],
   "source": [
    "y1_test"
   ]
  },
  {
   "cell_type": "code",
   "execution_count": 23,
   "metadata": {},
   "outputs": [
    {
     "data": {
      "text/plain": [
       "array([[39.37647325],\n",
       "       [32.96552257],\n",
       "       [25.08539569],\n",
       "       [24.15046538],\n",
       "       [30.96210048],\n",
       "       [44.18468627],\n",
       "       [22.68128918],\n",
       "       [22.68128918],\n",
       "       [22.64122074],\n",
       "       [22.54772771],\n",
       "       [22.54772771],\n",
       "       [29.49292428],\n",
       "       [30.56141606],\n",
       "       [29.09223987],\n",
       "       [29.09223987],\n",
       "       [24.28402685],\n",
       "       [22.54772771],\n",
       "       [22.68128918],\n",
       "       [22.54772771],\n",
       "       [29.62648576],\n",
       "       [24.5511498 ],\n",
       "       [40.44496503],\n",
       "       [33.36620699],\n",
       "       [30.69497754],\n",
       "       [24.15046538],\n",
       "       [22.54772771],\n",
       "       [23.02854901],\n",
       "       [33.36620699]])"
      ]
     },
     "execution_count": 23,
     "metadata": {},
     "output_type": "execute_result"
    }
   ],
   "source": [
    "y1_pred"
   ]
  },
  {
   "cell_type": "code",
   "execution_count": 24,
   "metadata": {},
   "outputs": [
    {
     "data": {
      "text/plain": [
       "0.009882580076044869"
      ]
     },
     "execution_count": 24,
     "metadata": {},
     "output_type": "execute_result"
    }
   ],
   "source": [
    "from sklearn.metrics import mean_squared_error,r2_score\n",
    "\n",
    "mean_squared_error(y1_test,y1_pred)"
   ]
  },
  {
   "cell_type": "code",
   "execution_count": 25,
   "metadata": {},
   "outputs": [
    {
     "data": {
      "image/png": "[encoded data removed]",
      "text/plain": [
       "<Figure size 936x432 with 1 Axes>"
      ]
     },
     "metadata": {},
     "output_type": "display_data"
    }
   ],
   "source": [
    "plt.scatter(x1_test,y1_test, color=\"red\")\n",
    "plt.plot(x1_test,y1_pred, color=\"green\")\n",
    "plt.xlabel('X-TESTS')\n",
    "plt.ylabel('Y-PRED &  Y-TEST')\n",
    "plt.legend(['y_pred','y_test'])\n",
    "\n",
    "plt.show()"
   ]
  },
  {
   "cell_type": "code",
   "execution_count": null,
   "metadata": {},
   "outputs": [],
   "source": []
  },
  {
   "cell_type": "code",
   "execution_count": null,
   "metadata": {},
   "outputs": [],
   "source": []
  }
 ],
 "metadata": {
  "kernelspec": {
   "display_name": "Python 3",
   "language": "python",
   "name": "python3"
  },
  "language_info": {
   "codemirror_mode": {
    "name": "ipython",
    "version": 3
   },
   "file_extension": ".py",
   "mimetype": "text/x-python",
   "name": "python",
   "nbconvert_exporter": "python",
   "pygments_lexer": "ipython3",
   "version": "3.8.3"
  }
 },
 "nbformat": 4,
 "nbformat_minor": 4
}
