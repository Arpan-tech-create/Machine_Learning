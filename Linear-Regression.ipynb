{
 "cells": [
  {
   "cell_type": "code",
   "execution_count": 4,
   "metadata": {},
   "outputs": [],
   "source": [
    "import pandas as pd\n",
    "import matplotlib.pyplot as plt\n",
    "import seaborn as sns\n",
    "\n",
    "plt.rcParams['figure.figsize']=(15,6)\n",
    "plt.rcParams['font.size']=14\n",
    "\n"
   ]
  },
  {
   "cell_type": "code",
   "execution_count": 5,
   "metadata": {},
   "outputs": [
    {
     "data": {
      "text/html": [
       "<div>\n",
       "<style scoped>\n",
       "    .dataframe tbody tr th:only-of-type {\n",
       "        vertical-align: middle;\n",
       "    }\n",
       "\n",
       "    .dataframe tbody tr th {\n",
       "        vertical-align: top;\n",
       "    }\n",
       "\n",
       "    .dataframe thead th {\n",
       "        text-align: right;\n",
       "    }\n",
       "</style>\n",
       "<table border=\"1\" class=\"dataframe\">\n",
       "  <thead>\n",
       "    <tr style=\"text-align: right;\">\n",
       "      <th></th>\n",
       "      <th>SrNo</th>\n",
       "      <th>PaperName</th>\n",
       "      <th>Paper Code</th>\n",
       "      <th>GEN</th>\n",
       "      <th>OBC</th>\n",
       "      <th>SC_ST</th>\n",
       "      <th>Year</th>\n",
       "    </tr>\n",
       "  </thead>\n",
       "  <tbody>\n",
       "    <tr>\n",
       "      <th>0</th>\n",
       "      <td>1</td>\n",
       "      <td>Life Sciences</td>\n",
       "      <td>XL</td>\n",
       "      <td>31.70</td>\n",
       "      <td>28.50</td>\n",
       "      <td>21.10</td>\n",
       "      <td>2020</td>\n",
       "    </tr>\n",
       "    <tr>\n",
       "      <th>1</th>\n",
       "      <td>2</td>\n",
       "      <td>Civil Engineering</td>\n",
       "      <td>CE</td>\n",
       "      <td>32.90</td>\n",
       "      <td>29.60</td>\n",
       "      <td>21.90</td>\n",
       "      <td>2020</td>\n",
       "    </tr>\n",
       "    <tr>\n",
       "      <th>2</th>\n",
       "      <td>3</td>\n",
       "      <td>Electrical Engineering</td>\n",
       "      <td>EE</td>\n",
       "      <td>33.40</td>\n",
       "      <td>30.00</td>\n",
       "      <td>22.20</td>\n",
       "      <td>2020</td>\n",
       "    </tr>\n",
       "    <tr>\n",
       "      <th>3</th>\n",
       "      <td>4</td>\n",
       "      <td>CS_IT</td>\n",
       "      <td>CS</td>\n",
       "      <td>28.50</td>\n",
       "      <td>25.60</td>\n",
       "      <td>19.00</td>\n",
       "      <td>2020</td>\n",
       "    </tr>\n",
       "    <tr>\n",
       "      <th>4</th>\n",
       "      <td>5</td>\n",
       "      <td>Mechanical Engineering</td>\n",
       "      <td>ME</td>\n",
       "      <td>34.00</td>\n",
       "      <td>30.60</td>\n",
       "      <td>22.60</td>\n",
       "      <td>2020</td>\n",
       "    </tr>\n",
       "    <tr>\n",
       "      <th>...</th>\n",
       "      <td>...</td>\n",
       "      <td>...</td>\n",
       "      <td>...</td>\n",
       "      <td>...</td>\n",
       "      <td>...</td>\n",
       "      <td>...</td>\n",
       "      <td>...</td>\n",
       "    </tr>\n",
       "    <tr>\n",
       "      <th>88</th>\n",
       "      <td>89</td>\n",
       "      <td>Electrical Engineering</td>\n",
       "      <td>EE</td>\n",
       "      <td>25.00</td>\n",
       "      <td>22.50</td>\n",
       "      <td>16.67</td>\n",
       "      <td>2015</td>\n",
       "    </tr>\n",
       "    <tr>\n",
       "      <th>89</th>\n",
       "      <td>90</td>\n",
       "      <td>Electronics and Communication Engineering</td>\n",
       "      <td>EC</td>\n",
       "      <td>25.00</td>\n",
       "      <td>22.50</td>\n",
       "      <td>16.67</td>\n",
       "      <td>2015</td>\n",
       "    </tr>\n",
       "    <tr>\n",
       "      <th>90</th>\n",
       "      <td>91</td>\n",
       "      <td>CS_IT</td>\n",
       "      <td>CS</td>\n",
       "      <td>25.00</td>\n",
       "      <td>22.50</td>\n",
       "      <td>16.67</td>\n",
       "      <td>2015</td>\n",
       "    </tr>\n",
       "    <tr>\n",
       "      <th>91</th>\n",
       "      <td>92</td>\n",
       "      <td>Instrumentation Engineering</td>\n",
       "      <td>IN</td>\n",
       "      <td>25.45</td>\n",
       "      <td>22.90</td>\n",
       "      <td>16.96</td>\n",
       "      <td>2015</td>\n",
       "    </tr>\n",
       "    <tr>\n",
       "      <th>92</th>\n",
       "      <td>93</td>\n",
       "      <td>Production and Industrial Engineering</td>\n",
       "      <td>PI</td>\n",
       "      <td>26.82</td>\n",
       "      <td>24.14</td>\n",
       "      <td>17.88</td>\n",
       "      <td>2015</td>\n",
       "    </tr>\n",
       "  </tbody>\n",
       "</table>\n",
       "<p>93 rows × 7 columns</p>\n",
       "</div>"
      ],
      "text/plain": [
       "    SrNo                                  PaperName Paper Code    GEN    OBC  \\\n",
       "0      1                              Life Sciences         XL  31.70  28.50   \n",
       "1      2                          Civil Engineering         CE  32.90  29.60   \n",
       "2      3                     Electrical Engineering         EE  33.40  30.00   \n",
       "3      4                                      CS_IT         CS  28.50  25.60   \n",
       "4      5                     Mechanical Engineering         ME  34.00  30.60   \n",
       "..   ...                                        ...        ...    ...    ...   \n",
       "88    89                     Electrical Engineering         EE  25.00  22.50   \n",
       "89    90  Electronics and Communication Engineering         EC  25.00  22.50   \n",
       "90    91                                      CS_IT         CS  25.00  22.50   \n",
       "91    92                Instrumentation Engineering         IN  25.45  22.90   \n",
       "92    93      Production and Industrial Engineering         PI  26.82  24.14   \n",
       "\n",
       "    SC_ST  Year  \n",
       "0   21.10  2020  \n",
       "1   21.90  2020  \n",
       "2   22.20  2020  \n",
       "3   19.00  2020  \n",
       "4   22.60  2020  \n",
       "..    ...   ...  \n",
       "88  16.67  2015  \n",
       "89  16.67  2015  \n",
       "90  16.67  2015  \n",
       "91  16.96  2015  \n",
       "92  17.88  2015  \n",
       "\n",
       "[93 rows x 7 columns]"
      ]
     },
     "execution_count": 5,
     "metadata": {},
     "output_type": "execute_result"
    }
   ],
   "source": [
    "data=pd.read_csv('gate_cutoff123-Copy1.csv')\n",
    "data"
   ]
  },
  {
   "cell_type": "code",
   "execution_count": 6,
   "metadata": {},
   "outputs": [
    {
     "data": {
      "text/plain": [
       "SrNo          0\n",
       "PaperName     0\n",
       "Paper Code    0\n",
       "GEN           0\n",
       "OBC           0\n",
       "SC_ST         0\n",
       "Year          0\n",
       "dtype: int64"
      ]
     },
     "execution_count": 6,
     "metadata": {},
     "output_type": "execute_result"
    }
   ],
   "source": [
    "data.isnull().sum()"
   ]
  },
  {
   "cell_type": "code",
   "execution_count": 7,
   "metadata": {},
   "outputs": [
    {
     "data": {
      "text/html": [
       "<div>\n",
       "<style scoped>\n",
       "    .dataframe tbody tr th:only-of-type {\n",
       "        vertical-align: middle;\n",
       "    }\n",
       "\n",
       "    .dataframe tbody tr th {\n",
       "        vertical-align: top;\n",
       "    }\n",
       "\n",
       "    .dataframe thead th {\n",
       "        text-align: right;\n",
       "    }\n",
       "</style>\n",
       "<table border=\"1\" class=\"dataframe\">\n",
       "  <thead>\n",
       "    <tr style=\"text-align: right;\">\n",
       "      <th></th>\n",
       "      <th>SrNo</th>\n",
       "      <th>PaperName</th>\n",
       "      <th>Paper Code</th>\n",
       "      <th>GEN</th>\n",
       "      <th>OBC</th>\n",
       "      <th>SC_ST</th>\n",
       "      <th>Year</th>\n",
       "    </tr>\n",
       "  </thead>\n",
       "  <tbody>\n",
       "    <tr>\n",
       "      <th>0</th>\n",
       "      <td>1</td>\n",
       "      <td>Life Sciences</td>\n",
       "      <td>XL</td>\n",
       "      <td>31.70</td>\n",
       "      <td>28.50</td>\n",
       "      <td>21.10</td>\n",
       "      <td>2020</td>\n",
       "    </tr>\n",
       "    <tr>\n",
       "      <th>1</th>\n",
       "      <td>2</td>\n",
       "      <td>Civil Engineering</td>\n",
       "      <td>CE</td>\n",
       "      <td>32.90</td>\n",
       "      <td>29.60</td>\n",
       "      <td>21.90</td>\n",
       "      <td>2020</td>\n",
       "    </tr>\n",
       "    <tr>\n",
       "      <th>2</th>\n",
       "      <td>3</td>\n",
       "      <td>Electrical Engineering</td>\n",
       "      <td>EE</td>\n",
       "      <td>33.40</td>\n",
       "      <td>30.00</td>\n",
       "      <td>22.20</td>\n",
       "      <td>2020</td>\n",
       "    </tr>\n",
       "    <tr>\n",
       "      <th>3</th>\n",
       "      <td>4</td>\n",
       "      <td>CS_IT</td>\n",
       "      <td>CS</td>\n",
       "      <td>28.50</td>\n",
       "      <td>25.60</td>\n",
       "      <td>19.00</td>\n",
       "      <td>2020</td>\n",
       "    </tr>\n",
       "    <tr>\n",
       "      <th>4</th>\n",
       "      <td>5</td>\n",
       "      <td>Mechanical Engineering</td>\n",
       "      <td>ME</td>\n",
       "      <td>34.00</td>\n",
       "      <td>30.60</td>\n",
       "      <td>22.60</td>\n",
       "      <td>2020</td>\n",
       "    </tr>\n",
       "    <tr>\n",
       "      <th>...</th>\n",
       "      <td>...</td>\n",
       "      <td>...</td>\n",
       "      <td>...</td>\n",
       "      <td>...</td>\n",
       "      <td>...</td>\n",
       "      <td>...</td>\n",
       "      <td>...</td>\n",
       "    </tr>\n",
       "    <tr>\n",
       "      <th>88</th>\n",
       "      <td>89</td>\n",
       "      <td>Electrical Engineering</td>\n",
       "      <td>EE</td>\n",
       "      <td>25.00</td>\n",
       "      <td>22.50</td>\n",
       "      <td>16.67</td>\n",
       "      <td>2015</td>\n",
       "    </tr>\n",
       "    <tr>\n",
       "      <th>89</th>\n",
       "      <td>90</td>\n",
       "      <td>Electronics and Communication Engineering</td>\n",
       "      <td>EC</td>\n",
       "      <td>25.00</td>\n",
       "      <td>22.50</td>\n",
       "      <td>16.67</td>\n",
       "      <td>2015</td>\n",
       "    </tr>\n",
       "    <tr>\n",
       "      <th>90</th>\n",
       "      <td>91</td>\n",
       "      <td>CS_IT</td>\n",
       "      <td>CS</td>\n",
       "      <td>25.00</td>\n",
       "      <td>22.50</td>\n",
       "      <td>16.67</td>\n",
       "      <td>2015</td>\n",
       "    </tr>\n",
       "    <tr>\n",
       "      <th>91</th>\n",
       "      <td>92</td>\n",
       "      <td>Instrumentation Engineering</td>\n",
       "      <td>IN</td>\n",
       "      <td>25.45</td>\n",
       "      <td>22.90</td>\n",
       "      <td>16.96</td>\n",
       "      <td>2015</td>\n",
       "    </tr>\n",
       "    <tr>\n",
       "      <th>92</th>\n",
       "      <td>93</td>\n",
       "      <td>Production and Industrial Engineering</td>\n",
       "      <td>PI</td>\n",
       "      <td>26.82</td>\n",
       "      <td>24.14</td>\n",
       "      <td>17.88</td>\n",
       "      <td>2015</td>\n",
       "    </tr>\n",
       "  </tbody>\n",
       "</table>\n",
       "<p>93 rows × 7 columns</p>\n",
       "</div>"
      ],
      "text/plain": [
       "    SrNo                                  PaperName Paper Code    GEN    OBC  \\\n",
       "0      1                              Life Sciences         XL  31.70  28.50   \n",
       "1      2                          Civil Engineering         CE  32.90  29.60   \n",
       "2      3                     Electrical Engineering         EE  33.40  30.00   \n",
       "3      4                                      CS_IT         CS  28.50  25.60   \n",
       "4      5                     Mechanical Engineering         ME  34.00  30.60   \n",
       "..   ...                                        ...        ...    ...    ...   \n",
       "88    89                     Electrical Engineering         EE  25.00  22.50   \n",
       "89    90  Electronics and Communication Engineering         EC  25.00  22.50   \n",
       "90    91                                      CS_IT         CS  25.00  22.50   \n",
       "91    92                Instrumentation Engineering         IN  25.45  22.90   \n",
       "92    93      Production and Industrial Engineering         PI  26.82  24.14   \n",
       "\n",
       "    SC_ST  Year  \n",
       "0   21.10  2020  \n",
       "1   21.90  2020  \n",
       "2   22.20  2020  \n",
       "3   19.00  2020  \n",
       "4   22.60  2020  \n",
       "..    ...   ...  \n",
       "88  16.67  2015  \n",
       "89  16.67  2015  \n",
       "90  16.67  2015  \n",
       "91  16.96  2015  \n",
       "92  17.88  2015  \n",
       "\n",
       "[93 rows x 7 columns]"
      ]
     },
     "execution_count": 7,
     "metadata": {},
     "output_type": "execute_result"
    }
   ],
   "source": [
    "data.dropna()"
   ]
  },
  {
   "cell_type": "code",
   "execution_count": 8,
   "metadata": {},
   "outputs": [
    {
     "data": {
      "text/html": [
       "<div>\n",
       "<style scoped>\n",
       "    .dataframe tbody tr th:only-of-type {\n",
       "        vertical-align: middle;\n",
       "    }\n",
       "\n",
       "    .dataframe tbody tr th {\n",
       "        vertical-align: top;\n",
       "    }\n",
       "\n",
       "    .dataframe thead th {\n",
       "        text-align: right;\n",
       "    }\n",
       "</style>\n",
       "<table border=\"1\" class=\"dataframe\">\n",
       "  <thead>\n",
       "    <tr style=\"text-align: right;\">\n",
       "      <th></th>\n",
       "      <th>SrNo</th>\n",
       "      <th>PaperName</th>\n",
       "      <th>Paper Code</th>\n",
       "      <th>GEN</th>\n",
       "      <th>OBC</th>\n",
       "      <th>SC_ST</th>\n",
       "      <th>Year</th>\n",
       "    </tr>\n",
       "  </thead>\n",
       "  <tbody>\n",
       "    <tr>\n",
       "      <th>0</th>\n",
       "      <td>1</td>\n",
       "      <td>Life Sciences</td>\n",
       "      <td>XL</td>\n",
       "      <td>31.70</td>\n",
       "      <td>28.50</td>\n",
       "      <td>21.10</td>\n",
       "      <td>2020</td>\n",
       "    </tr>\n",
       "    <tr>\n",
       "      <th>1</th>\n",
       "      <td>2</td>\n",
       "      <td>Civil Engineering</td>\n",
       "      <td>CE</td>\n",
       "      <td>32.90</td>\n",
       "      <td>29.60</td>\n",
       "      <td>21.90</td>\n",
       "      <td>2020</td>\n",
       "    </tr>\n",
       "    <tr>\n",
       "      <th>2</th>\n",
       "      <td>3</td>\n",
       "      <td>Electrical Engineering</td>\n",
       "      <td>EE</td>\n",
       "      <td>33.40</td>\n",
       "      <td>30.00</td>\n",
       "      <td>22.20</td>\n",
       "      <td>2020</td>\n",
       "    </tr>\n",
       "    <tr>\n",
       "      <th>3</th>\n",
       "      <td>4</td>\n",
       "      <td>CS_IT</td>\n",
       "      <td>CS</td>\n",
       "      <td>28.50</td>\n",
       "      <td>25.60</td>\n",
       "      <td>19.00</td>\n",
       "      <td>2020</td>\n",
       "    </tr>\n",
       "    <tr>\n",
       "      <th>4</th>\n",
       "      <td>5</td>\n",
       "      <td>Mechanical Engineering</td>\n",
       "      <td>ME</td>\n",
       "      <td>34.00</td>\n",
       "      <td>30.60</td>\n",
       "      <td>22.60</td>\n",
       "      <td>2020</td>\n",
       "    </tr>\n",
       "    <tr>\n",
       "      <th>...</th>\n",
       "      <td>...</td>\n",
       "      <td>...</td>\n",
       "      <td>...</td>\n",
       "      <td>...</td>\n",
       "      <td>...</td>\n",
       "      <td>...</td>\n",
       "      <td>...</td>\n",
       "    </tr>\n",
       "    <tr>\n",
       "      <th>88</th>\n",
       "      <td>89</td>\n",
       "      <td>Electrical Engineering</td>\n",
       "      <td>EE</td>\n",
       "      <td>25.00</td>\n",
       "      <td>22.50</td>\n",
       "      <td>16.67</td>\n",
       "      <td>2015</td>\n",
       "    </tr>\n",
       "    <tr>\n",
       "      <th>89</th>\n",
       "      <td>90</td>\n",
       "      <td>Electronics and Communication Engineering</td>\n",
       "      <td>EC</td>\n",
       "      <td>25.00</td>\n",
       "      <td>22.50</td>\n",
       "      <td>16.67</td>\n",
       "      <td>2015</td>\n",
       "    </tr>\n",
       "    <tr>\n",
       "      <th>90</th>\n",
       "      <td>91</td>\n",
       "      <td>CS_IT</td>\n",
       "      <td>CS</td>\n",
       "      <td>25.00</td>\n",
       "      <td>22.50</td>\n",
       "      <td>16.67</td>\n",
       "      <td>2015</td>\n",
       "    </tr>\n",
       "    <tr>\n",
       "      <th>91</th>\n",
       "      <td>92</td>\n",
       "      <td>Instrumentation Engineering</td>\n",
       "      <td>IN</td>\n",
       "      <td>25.45</td>\n",
       "      <td>22.90</td>\n",
       "      <td>16.96</td>\n",
       "      <td>2015</td>\n",
       "    </tr>\n",
       "    <tr>\n",
       "      <th>92</th>\n",
       "      <td>93</td>\n",
       "      <td>Production and Industrial Engineering</td>\n",
       "      <td>PI</td>\n",
       "      <td>26.82</td>\n",
       "      <td>24.14</td>\n",
       "      <td>17.88</td>\n",
       "      <td>2015</td>\n",
       "    </tr>\n",
       "  </tbody>\n",
       "</table>\n",
       "<p>93 rows × 7 columns</p>\n",
       "</div>"
      ],
      "text/plain": [
       "    SrNo                                  PaperName Paper Code    GEN    OBC  \\\n",
       "0      1                              Life Sciences         XL  31.70  28.50   \n",
       "1      2                          Civil Engineering         CE  32.90  29.60   \n",
       "2      3                     Electrical Engineering         EE  33.40  30.00   \n",
       "3      4                                      CS_IT         CS  28.50  25.60   \n",
       "4      5                     Mechanical Engineering         ME  34.00  30.60   \n",
       "..   ...                                        ...        ...    ...    ...   \n",
       "88    89                     Electrical Engineering         EE  25.00  22.50   \n",
       "89    90  Electronics and Communication Engineering         EC  25.00  22.50   \n",
       "90    91                                      CS_IT         CS  25.00  22.50   \n",
       "91    92                Instrumentation Engineering         IN  25.45  22.90   \n",
       "92    93      Production and Industrial Engineering         PI  26.82  24.14   \n",
       "\n",
       "    SC_ST  Year  \n",
       "0   21.10  2020  \n",
       "1   21.90  2020  \n",
       "2   22.20  2020  \n",
       "3   19.00  2020  \n",
       "4   22.60  2020  \n",
       "..    ...   ...  \n",
       "88  16.67  2015  \n",
       "89  16.67  2015  \n",
       "90  16.67  2015  \n",
       "91  16.96  2015  \n",
       "92  17.88  2015  \n",
       "\n",
       "[93 rows x 7 columns]"
      ]
     },
     "execution_count": 8,
     "metadata": {},
     "output_type": "execute_result"
    }
   ],
   "source": [
    "data"
   ]
  },
  {
   "cell_type": "code",
   "execution_count": 9,
   "metadata": {},
   "outputs": [],
   "source": [
    "y=data[['GEN']]\n",
    "x=data[['OBC']]"
   ]
  },
  {
   "cell_type": "code",
   "execution_count": 10,
   "metadata": {},
   "outputs": [],
   "source": [
    "from sklearn.linear_model import LinearRegression\n",
    "from sklearn.model_selection import train_test_split"
   ]
  },
  {
   "cell_type": "code",
   "execution_count": 11,
   "metadata": {},
   "outputs": [],
   "source": [
    "x_train,x_test,y_train,y_test=train_test_split(x,y,test_size=.03)"
   ]
  },
  {
   "cell_type": "code",
   "execution_count": 12,
   "metadata": {},
   "outputs": [
    {
     "data": {
      "text/plain": [
       "LinearRegression()"
      ]
     },
     "execution_count": 12,
     "metadata": {},
     "output_type": "execute_result"
    }
   ],
   "source": [
    "#train Model\n",
    "lr=LinearRegression()\n",
    "lr.fit(x_train,y_train)\n"
   ]
  },
  {
   "cell_type": "code",
   "execution_count": 13,
   "metadata": {},
   "outputs": [],
   "source": [
    "y_pred=lr.predict(x_test)"
   ]
  },
  {
   "cell_type": "code",
   "execution_count": 14,
   "metadata": {},
   "outputs": [
    {
     "data": {
      "text/html": [
       "<div>\n",
       "<style scoped>\n",
       "    .dataframe tbody tr th:only-of-type {\n",
       "        vertical-align: middle;\n",
       "    }\n",
       "\n",
       "    .dataframe tbody tr th {\n",
       "        vertical-align: top;\n",
       "    }\n",
       "\n",
       "    .dataframe thead th {\n",
       "        text-align: right;\n",
       "    }\n",
       "</style>\n",
       "<table border=\"1\" class=\"dataframe\">\n",
       "  <thead>\n",
       "    <tr style=\"text-align: right;\">\n",
       "      <th></th>\n",
       "      <th>GEN</th>\n",
       "    </tr>\n",
       "  </thead>\n",
       "  <tbody>\n",
       "    <tr>\n",
       "      <th>14</th>\n",
       "      <td>34.8</td>\n",
       "    </tr>\n",
       "    <tr>\n",
       "      <th>87</th>\n",
       "      <td>25.0</td>\n",
       "    </tr>\n",
       "    <tr>\n",
       "      <th>78</th>\n",
       "      <td>38.9</td>\n",
       "    </tr>\n",
       "  </tbody>\n",
       "</table>\n",
       "</div>"
      ],
      "text/plain": [
       "     GEN\n",
       "14  34.8\n",
       "87  25.0\n",
       "78  38.9"
      ]
     },
     "execution_count": 14,
     "metadata": {},
     "output_type": "execute_result"
    }
   ],
   "source": [
    "y_test"
   ]
  },
  {
   "cell_type": "code",
   "execution_count": 15,
   "metadata": {},
   "outputs": [
    {
     "data": {
      "text/plain": [
       "array([[34.78936733],\n",
       "       [24.96994011],\n",
       "       [38.91799014]])"
      ]
     },
     "execution_count": 15,
     "metadata": {},
     "output_type": "execute_result"
    }
   ],
   "source": [
    "y_pred"
   ]
  },
  {
   "cell_type": "code",
   "execution_count": 16,
   "metadata": {},
   "outputs": [
    {
     "data": {
      "text/plain": [
       "0.0004467651819356218"
      ]
     },
     "execution_count": 16,
     "metadata": {},
     "output_type": "execute_result"
    }
   ],
   "source": [
    "from sklearn.metrics import mean_squared_error,r2_score\n",
    "\n",
    "mean_squared_error(y_test,y_pred)"
   ]
  },
  {
   "cell_type": "code",
   "execution_count": 17,
   "metadata": {},
   "outputs": [
    {
     "name": "stdout",
     "output_type": "stream",
     "text": [
      "Coefficients: \n",
      " [[1.115844]]\n"
     ]
    }
   ],
   "source": [
    "# The coefficients\n",
    "print(\"Coefficients: \\n\", lr.coef_)"
   ]
  },
  {
   "cell_type": "code",
   "execution_count": 82,
   "metadata": {},
   "outputs": [
    {
     "name": "stdout",
     "output_type": "stream",
     "text": [
      "Mean squared error: 0.00\n",
      "Coefficient of determination: 1.00\n"
     ]
    }
   ],
   "source": [
    "# The mean squared error\n",
    "print(\"Mean squared error: %.2f\" % mean_squared_error(y_test,y_pred))\n",
    "# The coefficient of determination: 1 is perfect prediction\n",
    "print(\"Coefficient of determination: %.2f\" % r2_score(y_test,y_pred))"
   ]
  },
  {
   "cell_type": "code",
   "execution_count": 83,
   "metadata": {},
   "outputs": [
    {
     "data": {
      "image/png": "[encoded data removed]",
      "text/plain": [
       "<Figure size 1080x432 with 1 Axes>"
      ]
     },
     "metadata": {
      "needs_background": "light"
     },
     "output_type": "display_data"
    }
   ],
   "source": [
    "plt.scatter(x_test,y_test, color=\"black\")\n",
    "plt.plot(x_test,y_pred, color=\"blue\", linewidth=3)\n",
    "plt.xlabel('X-TESTS')\n",
    "plt.ylabel('Y-PRED &  Y-TEST')\n",
    "plt.legend(['y_pred','y_test'])\n",
    "\n",
    "plt.show()"
   ]
  },
  {
   "cell_type": "code",
   "execution_count": 18,
   "metadata": {},
   "outputs": [],
   "source": [
    "x1=data[['SC_ST']]\n",
    "y1=data[['OBC']]"
   ]
  },
  {
   "cell_type": "code",
   "execution_count": 20,
   "metadata": {},
   "outputs": [],
   "source": [
    "x1_train,x1_test,y1_train,y1_test=train_test_split(x1,y1,test_size=0.3)"
   ]
  },
  {
   "cell_type": "code",
   "execution_count": 21,
   "metadata": {},
   "outputs": [
    {
     "data": {
      "text/plain": [
       "LinearRegression()"
      ]
     },
     "execution_count": 21,
     "metadata": {},
     "output_type": "execute_result"
    }
   ],
   "source": [
    "#train Model\n",
    "lr1=LinearRegression()\n",
    "lr1.fit(x1_train,y1_train)\n"
   ]
  },
  {
   "cell_type": "code",
   "execution_count": 22,
   "metadata": {},
   "outputs": [],
   "source": [
    "y1_pred=lr1.predict(x1_test)"
   ]
  },
  {
   "cell_type": "code",
   "execution_count": 23,
   "metadata": {},
   "outputs": [
    {
     "data": {
      "text/html": [
       "<div>\n",
       "<style scoped>\n",
       "    .dataframe tbody tr th:only-of-type {\n",
       "        vertical-align: middle;\n",
       "    }\n",
       "\n",
       "    .dataframe tbody tr th {\n",
       "        vertical-align: top;\n",
       "    }\n",
       "\n",
       "    .dataframe thead th {\n",
       "        text-align: right;\n",
       "    }\n",
       "</style>\n",
       "<table border=\"1\" class=\"dataframe\">\n",
       "  <thead>\n",
       "    <tr style=\"text-align: right;\">\n",
       "      <th></th>\n",
       "      <th>OBC</th>\n",
       "    </tr>\n",
       "  </thead>\n",
       "  <tbody>\n",
       "    <tr>\n",
       "      <th>69</th>\n",
       "      <td>28.3</td>\n",
       "    </tr>\n",
       "    <tr>\n",
       "      <th>23</th>\n",
       "      <td>22.5</td>\n",
       "    </tr>\n",
       "    <tr>\n",
       "      <th>91</th>\n",
       "      <td>22.9</td>\n",
       "    </tr>\n",
       "    <tr>\n",
       "      <th>80</th>\n",
       "      <td>22.5</td>\n",
       "    </tr>\n",
       "    <tr>\n",
       "      <th>11</th>\n",
       "      <td>33.3</td>\n",
       "    </tr>\n",
       "    <tr>\n",
       "      <th>1</th>\n",
       "      <td>29.6</td>\n",
       "    </tr>\n",
       "    <tr>\n",
       "      <th>18</th>\n",
       "      <td>29.4</td>\n",
       "    </tr>\n",
       "    <tr>\n",
       "      <th>20</th>\n",
       "      <td>33.4</td>\n",
       "    </tr>\n",
       "    <tr>\n",
       "      <th>38</th>\n",
       "      <td>36.9</td>\n",
       "    </tr>\n",
       "    <tr>\n",
       "      <th>55</th>\n",
       "      <td>22.8</td>\n",
       "    </tr>\n",
       "    <tr>\n",
       "      <th>7</th>\n",
       "      <td>32.1</td>\n",
       "    </tr>\n",
       "    <tr>\n",
       "      <th>83</th>\n",
       "      <td>22.5</td>\n",
       "    </tr>\n",
       "    <tr>\n",
       "      <th>44</th>\n",
       "      <td>48.1</td>\n",
       "    </tr>\n",
       "    <tr>\n",
       "      <th>70</th>\n",
       "      <td>26.9</td>\n",
       "    </tr>\n",
       "    <tr>\n",
       "      <th>66</th>\n",
       "      <td>26.1</td>\n",
       "    </tr>\n",
       "    <tr>\n",
       "      <th>53</th>\n",
       "      <td>34.0</td>\n",
       "    </tr>\n",
       "    <tr>\n",
       "      <th>77</th>\n",
       "      <td>39.8</td>\n",
       "    </tr>\n",
       "    <tr>\n",
       "      <th>64</th>\n",
       "      <td>36.2</td>\n",
       "    </tr>\n",
       "    <tr>\n",
       "      <th>90</th>\n",
       "      <td>22.5</td>\n",
       "    </tr>\n",
       "    <tr>\n",
       "      <th>48</th>\n",
       "      <td>30.9</td>\n",
       "    </tr>\n",
       "    <tr>\n",
       "      <th>79</th>\n",
       "      <td>26.6</td>\n",
       "    </tr>\n",
       "    <tr>\n",
       "      <th>62</th>\n",
       "      <td>31.2</td>\n",
       "    </tr>\n",
       "    <tr>\n",
       "      <th>60</th>\n",
       "      <td>33.3</td>\n",
       "    </tr>\n",
       "    <tr>\n",
       "      <th>43</th>\n",
       "      <td>28.4</td>\n",
       "    </tr>\n",
       "    <tr>\n",
       "      <th>50</th>\n",
       "      <td>39.5</td>\n",
       "    </tr>\n",
       "    <tr>\n",
       "      <th>15</th>\n",
       "      <td>37.9</td>\n",
       "    </tr>\n",
       "    <tr>\n",
       "      <th>51</th>\n",
       "      <td>25.1</td>\n",
       "    </tr>\n",
       "    <tr>\n",
       "      <th>49</th>\n",
       "      <td>22.5</td>\n",
       "    </tr>\n",
       "  </tbody>\n",
       "</table>\n",
       "</div>"
      ],
      "text/plain": [
       "     OBC\n",
       "69  28.3\n",
       "23  22.5\n",
       "91  22.9\n",
       "80  22.5\n",
       "11  33.3\n",
       "1   29.6\n",
       "18  29.4\n",
       "20  33.4\n",
       "38  36.9\n",
       "55  22.8\n",
       "7   32.1\n",
       "83  22.5\n",
       "44  48.1\n",
       "70  26.9\n",
       "66  26.1\n",
       "53  34.0\n",
       "77  39.8\n",
       "64  36.2\n",
       "90  22.5\n",
       "48  30.9\n",
       "79  26.6\n",
       "62  31.2\n",
       "60  33.3\n",
       "43  28.4\n",
       "50  39.5\n",
       "15  37.9\n",
       "51  25.1\n",
       "49  22.5"
      ]
     },
     "execution_count": 23,
     "metadata": {},
     "output_type": "execute_result"
    }
   ],
   "source": [
    "y1_test"
   ]
  },
  {
   "cell_type": "code",
   "execution_count": 24,
   "metadata": {},
   "outputs": [
    {
     "data": {
      "text/plain": [
       "array([[28.41295909],\n",
       "       [22.52599752],\n",
       "       [23.00765801],\n",
       "       [22.52599752],\n",
       "       [33.36335859],\n",
       "       [29.61711032],\n",
       "       [29.48331574],\n",
       "       [33.49715317],\n",
       "       [36.8420177 ],\n",
       "       [22.92738126],\n",
       "       [32.15920736],\n",
       "       [22.52599752],\n",
       "       [48.08076251],\n",
       "       [26.9412187 ],\n",
       "       [26.13845121],\n",
       "       [33.89853691],\n",
       "       [39.78549848],\n",
       "       [36.17304479],\n",
       "       [22.61965373],\n",
       "       [30.95505613],\n",
       "       [26.67362953],\n",
       "       [31.22264529],\n",
       "       [33.36335859],\n",
       "       [28.41295909],\n",
       "       [39.38411474],\n",
       "       [37.91237435],\n",
       "       [25.06809456],\n",
       "       [22.52599752]])"
      ]
     },
     "execution_count": 24,
     "metadata": {},
     "output_type": "execute_result"
    }
   ],
   "source": [
    "y1_pred"
   ]
  },
  {
   "cell_type": "code",
   "execution_count": 25,
   "metadata": {},
   "outputs": [
    {
     "data": {
      "text/plain": [
       "0.004559945805676745"
      ]
     },
     "execution_count": 25,
     "metadata": {},
     "output_type": "execute_result"
    }
   ],
   "source": [
    "from sklearn.metrics import mean_squared_error,r2_score\n",
    "\n",
    "mean_squared_error(y1_test,y1_pred)"
   ]
  },
  {
   "cell_type": "code",
   "execution_count": 27,
   "metadata": {},
   "outputs": [
    {
     "data": {
      "image/png": "[encoded data removed]",
      "text/plain": [
       "<Figure size 1080x432 with 1 Axes>"
      ]
     },
     "metadata": {
      "needs_background": "light"
     },
     "output_type": "display_data"
    }
   ],
   "source": [
    "plt.scatter(x1_test,y1_test, color=\"red\")\n",
    "plt.plot(x1_test,y1_pred, color=\"green\")\n",
    "plt.xlabel('X-TESTS')\n",
    "plt.ylabel('Y-PRED &  Y-TEST')\n",
    "plt.legend(['y_pred','y_test'])\n",
    "\n",
    "plt.show()"
   ]
  },
  {
   "cell_type": "code",
   "execution_count": null,
   "metadata": {},
   "outputs": [],
   "source": []
  }
 ],
 "metadata": {
  "kernelspec": {
   "display_name": "Python 3",
   "language": "python",
   "name": "python3"
  },
  "language_info": {
   "codemirror_mode": {
    "name": "ipython",
    "version": 3
   },
   "file_extension": ".py",
   "mimetype": "text/x-python",
   "name": "python",
   "nbconvert_exporter": "python",
   "pygments_lexer": "ipython3",
   "version": "3.8.3"
  }
 },
 "nbformat": 4,
 "nbformat_minor": 4
}
